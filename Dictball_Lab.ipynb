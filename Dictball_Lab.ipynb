{
 "cells": [
  {
   "cell_type": "code",
   "execution_count": 172,
   "metadata": {},
   "outputs": [
    {
     "name": "stdout",
     "output_type": "stream",
     "text": [
      "{'home': {'team_name': 'Brooklyn Nets', 'colors': ['Black', 'White'], 'players': [{'player_name': 'Allen Anderson', 'number': 0, 'shoe': 16, 'points': 22, 'rebounds': 12, 'assists': 12, 'steals': 3, 'blocks': 1, 'slam_dunks': 1}, {'player_name': 'Reggie Evans', 'number': 30, 'shoe': 14, 'points': 12, 'rebounds': 12, 'assists': 12, 'steals': 12, 'blocks': 12, 'slam_dunks': 7}, {'player_name': 'Brook Lopez', 'number': 11, 'shoe': 17, 'points': 17, 'rebounds': 19, 'assists': 10, 'steals': 3, 'blocks': 1, 'slam_dunks': 15}, {'player_name': 'Mason Plumlee', 'number': 1, 'shoe': 19, 'points': 26, 'rebounds': 12, 'assists': 6, 'steals': 3, 'blocks': 8, 'slam_dunks': 5}, {'player_name': 'Jason Terry', 'number': 31, 'shoe': 15, 'points': 19, 'rebounds': 2, 'assists': 2, 'steals': 4, 'blocks': 11, 'slam_dunks': 1}]}, 'away': {'team_name': 'Charlotte Hornets', 'colors': ['Turquoise', 'Purple'], 'players': [{'player_name': 'Jeff Adrien', 'number': 4, 'shoe': 18, 'points': 10, 'rebounds': 1, 'assists': 1, 'steals': 2, 'blocks': 7, 'slam_dunks': 2}, {'player_name': 'Bismak Biyombo', 'number': 0, 'shoe': 16, 'points': 12, 'rebounds': 4, 'assists': 7, 'steals': 7, 'blocks': 15, 'slam_dunks': 10}, {'player_name': 'DeSagna Diop', 'number': 2, 'shoe': 14, 'points': 24, 'rebounds': 12, 'assists': 12, 'steals': 4, 'blocks': 5, 'slam_dunks': 5}, {'player_name': 'Ben Gordon', 'number': 8, 'shoe': 15, 'points': 33, 'rebounds': 3, 'assists': 2, 'steals': 1, 'blocks': 1, 'slam_dunks': 0}, {'player_name': 'Brendan Haywood', 'number': 33, 'shoe': 15, 'points': 6, 'rebounds': 12, 'assists': 12, 'steals': 22, 'blocks': 5, 'slam_dunks': 12}]}}\n"
     ]
    }
   ],
   "source": [
    "game_dictionary = {\n",
    "    'home':{\n",
    "        'team_name': 'Brooklyn Nets',\n",
    "         'colors': ['Black', 'White'],\n",
    "         'players': [{\n",
    "             'player_name': 'Allen Anderson',\n",
    "             'number': 0,\n",
    "             'shoe': 16,\n",
    "             'points': 22,\n",
    "             'rebounds': 12,\n",
    "             'assists': 12,\n",
    "             'steals': 3,\n",
    "             'blocks': 1,\n",
    "             'slam_dunks': 1},\n",
    "  {'player_name': 'Reggie Evans',\n",
    "   'number': 30,\n",
    "   'shoe': 14,\n",
    "   'points': 12,\n",
    "   'rebounds': 12,\n",
    "   'assists': 12,\n",
    "   'steals': 12,\n",
    "   'blocks': 12,\n",
    "   'slam_dunks': 7},\n",
    "  {'player_name': 'Brook Lopez',\n",
    "   'number': 11,\n",
    "   'shoe': 17,\n",
    "   'points': 17,\n",
    "   'rebounds': 19,\n",
    "   'assists': 10,\n",
    "   'steals': 3,\n",
    "   'blocks': 1,\n",
    "   'slam_dunks': 15},\n",
    "  {'player_name': 'Mason Plumlee',\n",
    "   'number': 1,\n",
    "   'shoe': 19,\n",
    "   'points': 26,\n",
    "   'rebounds': 12,\n",
    "   'assists': 6,\n",
    "   'steals': 3,\n",
    "   'blocks': 8,\n",
    "   'slam_dunks': 5},\n",
    "  {'player_name': 'Jason Terry',\n",
    "   'number': 31,\n",
    "   'shoe': 15,\n",
    "   'points': 19,\n",
    "   'rebounds': 2,\n",
    "   'assists': 2,\n",
    "   'steals': 4,\n",
    "   'blocks': 11,\n",
    "   'slam_dunks': 1}]},\n",
    "'away': {'team_name': 'Charlotte Hornets',\n",
    " 'colors': ['Turquoise', 'Purple'],\n",
    " 'players': [{'player_name': 'Jeff Adrien',\n",
    "   'number': 4,\n",
    "   'shoe': 18,\n",
    "   'points': 10,\n",
    "   'rebounds': 1,\n",
    "   'assists': 1,\n",
    "   'steals': 2,\n",
    "   'blocks': 7,\n",
    "   'slam_dunks': 2},\n",
    "  {'player_name': 'Bismak Biyombo',\n",
    "   'number': 0,\n",
    "   'shoe': 16,\n",
    "   'points': 12,\n",
    "   'rebounds': 4,\n",
    "   'assists': 7,\n",
    "   'steals': 7,\n",
    "   'blocks': 15,\n",
    "   'slam_dunks': 10},\n",
    "  {'player_name': 'DeSagna Diop',\n",
    "   'number': 2,\n",
    "   'shoe': 14,\n",
    "   'points': 24,\n",
    "   'rebounds': 12,\n",
    "   'assists': 12,\n",
    "   'steals': 4,\n",
    "   'blocks': 5,\n",
    "   'slam_dunks': 5},\n",
    "  {'player_name': 'Ben Gordon',\n",
    "   'number': 8,\n",
    "   'shoe': 15,\n",
    "   'points': 33,\n",
    "   'rebounds': 3,\n",
    "   'assists': 2,\n",
    "   'steals': 1,\n",
    "   'blocks': 1,\n",
    "   'slam_dunks': 0},\n",
    "  {'player_name': 'Brendan Haywood',\n",
    "   'number': 33,\n",
    "   'shoe': 15,\n",
    "   'points': 6,\n",
    "   'rebounds': 12,\n",
    "   'assists': 12,\n",
    "   'steals': 22,\n",
    "   'blocks': 5,\n",
    "   'slam_dunks': 12}]}}\n",
    "\n",
    "def game_dict():\n",
    "    return game_dictionary\n",
    "\n",
    "print(game_dict())\n"
   ]
  },
  {
   "cell_type": "code",
   "execution_count": 173,
   "metadata": {},
   "outputs": [
    {
     "name": "stdout",
     "output_type": "stream",
     "text": [
      "17\n"
     ]
    }
   ],
   "source": [
    "def num_points_scored(name):\n",
    "    for team in game_dict():\n",
    "        for i in range(len(game_dict()[team]['players'])):\n",
    "            if game_dict()[team]['players'][i]['player_name'] == name:\n",
    "                return game_dict()[team]['players'][i]['points']\n",
    "\n",
    "\n",
    "print(num_points_scored(\"Brook Lopez\"))\n",
    "# print(num_points_scored('Allen Anderson'))\n",
    "# print(game_dict()['home']['players'][0]) #dict\n",
    "\n",
    "# print(game_dict()['home']['players'][0]['points']) #22"
   ]
  },
  {
   "cell_type": "code",
   "execution_count": 174,
   "metadata": {},
   "outputs": [
    {
     "name": "stdout",
     "output_type": "stream",
     "text": [
      "17\n"
     ]
    }
   ],
   "source": [
    "def shoe_size(name):\n",
    "    for team in game_dict():\n",
    "        for i in range(len(game_dict()[team]['players'])):\n",
    "            if game_dict()[team]['players'][i]['player_name'] == name:\n",
    "                return game_dict()[team]['players'][i]['shoe']\n",
    "\n",
    "\n",
    "print(num_points_scored(\"Brook Lopez\"))"
   ]
  },
  {
   "cell_type": "code",
   "execution_count": 175,
   "metadata": {},
   "outputs": [
    {
     "name": "stdout",
     "output_type": "stream",
     "text": [
      "['Black', 'White']\n"
     ]
    }
   ],
   "source": [
    "def team_colors(name):\n",
    "    for team in game_dict():\n",
    "        if team == name:\n",
    "            return game_dict()[team]['colors']\n",
    "\n",
    "print(team_colors('home'))"
   ]
  },
  {
   "cell_type": "code",
   "execution_count": 176,
   "metadata": {},
   "outputs": [
    {
     "name": "stdout",
     "output_type": "stream",
     "text": [
      "['Brooklyn Nets', 'Charlotte Hornets']\n"
     ]
    }
   ],
   "source": [
    "def team_names(dictionary):\n",
    "    teams = []\n",
    "    for team in dictionary:\n",
    "        teams.append(dictionary[team]['team_name'])\n",
    "    return teams\n",
    "\n",
    "print(team_names(game_dict()))\n",
    "\n",
    "# print(team_names(game_dict()))"
   ]
  },
  {
   "cell_type": "code",
   "execution_count": 177,
   "metadata": {},
   "outputs": [
    {
     "name": "stdout",
     "output_type": "stream",
     "text": [
      "[4, 0, 2, 8, 33]\n"
     ]
    }
   ],
   "source": [
    "def player_numbers(team_name):\n",
    "    jersey_nums = []\n",
    "    for team in game_dict():\n",
    "        if team_name == game_dict()[team]['team_name']:\n",
    "            for i in range(len(game_dict()[team]['players'])):\n",
    "                jersey_nums.append(game_dict()[team]['players'][i]['number'])\n",
    "    return jersey_nums\n",
    "\n",
    "print(player_numbers('Charlotte Hornets'))"
   ]
  },
  {
   "cell_type": "code",
   "execution_count": 178,
   "metadata": {},
   "outputs": [
    {
     "name": "stdout",
     "output_type": "stream",
     "text": [
      "{'player_name': 'Allen Anderson', 'number': 0, 'shoe': 16, 'points': 22, 'rebounds': 12, 'assists': 12, 'steals': 3, 'blocks': 1, 'slam_dunks': 1}\n"
     ]
    }
   ],
   "source": [
    "def player_stats(players_name):\n",
    "    for team in game_dict():\n",
    "        for i in range(len(game_dict()[team]['players'])):\n",
    "            if game_dict()[team]['players'][i]['player_name'] == players_name:\n",
    "#                 full_dict = game_dict()[team]['players'][i]\n",
    "#                 del full_dict['player_name']\n",
    "#                 return full_dict\n",
    "                return game_dict()[team]['players'][i]\n",
    "                \n",
    "print(player_stats(\"Allen Anderson\"))"
   ]
  },
  {
   "cell_type": "code",
   "execution_count": 191,
   "metadata": {},
   "outputs": [
    {
     "name": "stdout",
     "output_type": "stream",
     "text": [
      "[('Mason Plumlee', 12)]\n"
     ]
    }
   ],
   "source": [
    "def big_shoe_rebounds():\n",
    "    temp_shoe = 0\n",
    "    temp_player = []\n",
    "    for team in game_dict():\n",
    "        for player in game_dict()[team]['players']:\n",
    "            if player['shoe'] > temp_shoe:\n",
    "                temp_shoe = player['shoe']\n",
    "                temp_player = []\n",
    "                temp_player.append((player['player_name'], player['rebounds']))\n",
    "            elif player['shoe'] == temp_shoe:\n",
    "                temp_shoe = player['shoe']\n",
    "                temp_player.append((player['player_name'], player['rebounds']))\n",
    "            else:\n",
    "                pass\n",
    "            \n",
    "    return temp_player\n",
    "#                 return game_dict()[team]['players'][i]['rebounds']\n",
    "    \n",
    "#                 return game_dict()[team]['players'][i]['player_name']\n",
    "print(big_shoe_rebounds())\n",
    "\n",
    "\n",
    "#     for team in game_dict():\n",
    "#         for i in range(len(game_dict()[team]['players'])):\n",
    "#             if game_dict()[team]['players'][i]['player_name'] == name:\n",
    "#                 return game_dict()[team]['players'][i]['points']\n",
    "    "
   ]
  },
  {
   "cell_type": "code",
   "execution_count": null,
   "metadata": {},
   "outputs": [],
   "source": []
  }
 ],
 "metadata": {
  "kernelspec": {
   "display_name": "Python 3",
   "language": "python",
   "name": "python3"
  },
  "language_info": {
   "codemirror_mode": {
    "name": "ipython",
    "version": 3
   },
   "file_extension": ".py",
   "mimetype": "text/x-python",
   "name": "python",
   "nbconvert_exporter": "python",
   "pygments_lexer": "ipython3",
   "version": "3.7.1"
  }
 },
 "nbformat": 4,
 "nbformat_minor": 2
}
